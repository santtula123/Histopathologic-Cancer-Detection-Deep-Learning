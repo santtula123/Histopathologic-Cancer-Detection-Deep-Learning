{
 "cells": [
  {
   "cell_type": "code",
   "execution_count": 27,
   "id": "462a612d-2408-4696-a8c1-34f175e04796",
   "metadata": {},
   "outputs": [
    {
     "name": "stdout",
     "output_type": "stream",
     "text": [
      "Skipping, found downloaded files in \".\\histopathologic-cancer-detection\" (use force=True to force download)\n"
     ]
    }
   ],
   "source": [
    "import opendatasets as od\n",
    "od.download(\"https://www.kaggle.com/competitions/histopathologic-cancer-detection\")"
   ]
  },
  {
   "cell_type": "code",
   "execution_count": 29,
   "id": "766477b3-7e34-4b47-8cbd-d728b12ebb9f",
   "metadata": {},
   "outputs": [
    {
     "name": "stdout",
     "output_type": "stream",
     "text": [
      "Directory is empty. Zipping file...\n"
     ]
    }
   ],
   "source": [
    "import zipfile\n",
    "with zipfile.ZipFile(\"./histopathologic-cancer-detection/histopathologic-cancer-detection.zip\", 'r') as zip_ref:\n",
    "    zip_ref.extractall(\"./histopathologic-cancer-detection/\")"
   ]
  },
  {
   "cell_type": "code",
   "execution_count": 1,
   "id": "af78d596-0fb6-49cc-bf4e-85e0e1f7c3d6",
   "metadata": {},
   "outputs": [],
   "source": [
    "import os\n",
    "\n",
    "def mkdir_if_not_exist(directory):\n",
    "    if not os.path.exists(directory):\n",
    "        os.makedirs(directory)\n",
    "        \n",
    "#train\n",
    "train_location = \"./data/train/\"\n",
    "mkdir_if_not_exist(train_location)\n",
    "mkdir_if_not_exist(train_location + \"cancerous\")\n",
    "mkdir_if_not_exist(train_location + \"non-cancerous\")\n",
    "#test\n",
    "test_location = \"./data/test/\"\n",
    "mkdir_if_not_exist(test_location)\n",
    "mkdir_if_not_exist(test_location + \"cancerous\")\n",
    "mkdir_if_not_exist(test_location + \"non-cancerous\")\n",
    "#eval\n",
    "eval_location = \"./data/eval/\"\n",
    "mkdir_if_not_exist(eval_location)\n",
    "mkdir_if_not_exist(eval_location + \"cancerous\")\n",
    "mkdir_if_not_exist(eval_location + \"non-cancerous\")"
   ]
  },
  {
   "cell_type": "code",
   "execution_count": 2,
   "id": "2a6287b2-c666-461d-97fb-399b21887612",
   "metadata": {},
   "outputs": [],
   "source": [
    "import pandas as pd\n",
    "image_data = pd.read_csv('./histopathologic-cancer-detection/train_labels.csv')"
   ]
  },
  {
   "cell_type": "code",
   "execution_count": 3,
   "id": "295623bb-176a-408c-8491-35f3cfc062a0",
   "metadata": {},
   "outputs": [
    {
     "data": {
      "text/html": [
       "<div>\n",
       "<style scoped>\n",
       "    .dataframe tbody tr th:only-of-type {\n",
       "        vertical-align: middle;\n",
       "    }\n",
       "\n",
       "    .dataframe tbody tr th {\n",
       "        vertical-align: top;\n",
       "    }\n",
       "\n",
       "    .dataframe thead th {\n",
       "        text-align: right;\n",
       "    }\n",
       "</style>\n",
       "<table border=\"1\" class=\"dataframe\">\n",
       "  <thead>\n",
       "    <tr style=\"text-align: right;\">\n",
       "      <th></th>\n",
       "      <th>id</th>\n",
       "      <th>label</th>\n",
       "    </tr>\n",
       "  </thead>\n",
       "  <tbody>\n",
       "    <tr>\n",
       "      <th>0</th>\n",
       "      <td>f38a6374c348f90b587e046aac6079959adf3835</td>\n",
       "      <td>0</td>\n",
       "    </tr>\n",
       "    <tr>\n",
       "      <th>1</th>\n",
       "      <td>c18f2d887b7ae4f6742ee445113fa1aef383ed77</td>\n",
       "      <td>1</td>\n",
       "    </tr>\n",
       "    <tr>\n",
       "      <th>2</th>\n",
       "      <td>755db6279dae599ebb4d39a9123cce439965282d</td>\n",
       "      <td>0</td>\n",
       "    </tr>\n",
       "    <tr>\n",
       "      <th>3</th>\n",
       "      <td>bc3f0c64fb968ff4a8bd33af6971ecae77c75e08</td>\n",
       "      <td>0</td>\n",
       "    </tr>\n",
       "    <tr>\n",
       "      <th>4</th>\n",
       "      <td>068aba587a4950175d04c680d38943fd488d6a9d</td>\n",
       "      <td>0</td>\n",
       "    </tr>\n",
       "  </tbody>\n",
       "</table>\n",
       "</div>"
      ],
      "text/plain": [
       "                                         id  label\n",
       "0  f38a6374c348f90b587e046aac6079959adf3835      0\n",
       "1  c18f2d887b7ae4f6742ee445113fa1aef383ed77      1\n",
       "2  755db6279dae599ebb4d39a9123cce439965282d      0\n",
       "3  bc3f0c64fb968ff4a8bd33af6971ecae77c75e08      0\n",
       "4  068aba587a4950175d04c680d38943fd488d6a9d      0"
      ]
     },
     "execution_count": 3,
     "metadata": {},
     "output_type": "execute_result"
    }
   ],
   "source": [
    "image_data.head()"
   ]
  },
  {
   "cell_type": "code",
   "execution_count": 4,
   "id": "b8d398b4-b017-46eb-bb9b-5e38b0adecb8",
   "metadata": {},
   "outputs": [],
   "source": [
    "import random\n",
    "import shutil\n",
    "for index, row in image_data.iterrows():\n",
    "    \n",
    "    fileName = row[\"id\"] + \".tif\"\n",
    "    \n",
    "    random_number = random.random()\n",
    "    \n",
    "    if random_number < 0.8:\n",
    "        location = train_location\n",
    "    elif random_number < 0.9:\n",
    "        location = test_location\n",
    "    else:\n",
    "        location = eval_location\n",
    "        \n",
    "    \n",
    "    if row[\"label\"] == 1:\n",
    "        shutil.copy(\"./histopathologic-cancer-detection/train/\" + fileName, location + \"cancerous/\" + fileName)\n",
    "    else:\n",
    "        shutil.copy(\"./histopathologic-cancer-detection/train/\"  + fileName, location + \"non-cancerous/\" + fileName)"
   ]
  }
 ],
 "metadata": {
  "kernelspec": {
   "display_name": "Python 3 (ipykernel)",
   "language": "python",
   "name": "python3"
  },
  "language_info": {
   "codemirror_mode": {
    "name": "ipython",
    "version": 3
   },
   "file_extension": ".py",
   "mimetype": "text/x-python",
   "name": "python",
   "nbconvert_exporter": "python",
   "pygments_lexer": "ipython3",
   "version": "3.9.12"
  }
 },
 "nbformat": 4,
 "nbformat_minor": 5
}
