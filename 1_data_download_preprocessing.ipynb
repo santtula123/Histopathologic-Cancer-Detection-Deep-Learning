{
 "cells": [
  {
   "cell_type": "code",
   "execution_count": 5,
   "id": "462a612d-2408-4696-a8c1-34f175e04796",
   "metadata": {},
   "outputs": [
    {
     "name": "stdout",
     "output_type": "stream",
     "text": [
      "Skipping, found downloaded files in \".\\histopathologic-cancer-detection\" (use force=True to force download)\n"
     ]
    }
   ],
   "source": [
    "import opendatasets as od\n",
    "od.download(\"https://www.kaggle.com/competitions/histopathologic-cancer-detection\")"
   ]
  },
  {
   "cell_type": "code",
   "execution_count": 6,
   "id": "766477b3-7e34-4b47-8cbd-d728b12ebb9f",
   "metadata": {},
   "outputs": [
    {
     "name": "stdout",
     "output_type": "stream",
     "text": [
      "Directory is not empty. Skipping zipping!\n"
     ]
    }
   ],
   "source": [
    "import zipfile\n",
    "import os\n",
    "\n",
    "if len(os.listdir(\"./data\")) == 0:\n",
    "    print(\"Directory is empty. Zipping file...\")\n",
    "    with zipfile.ZipFile(\"./histopathologic-cancer-detection/histopathologic-cancer-detection.zip\", 'r') as zip_ref:\n",
    "        zip_ref.extractall(\"./data\")\n",
    "else:    \n",
    "    print(\"Directory is not empty. Skipping zipping!\")"
   ]
  },
  {
   "cell_type": "code",
   "execution_count": null,
   "id": "a0899d90-2877-4848-bc4a-29daae410cf3",
   "metadata": {},
   "outputs": [],
   "source": []
  }
 ],
 "metadata": {
  "kernelspec": {
   "display_name": "Python 3 (ipykernel)",
   "language": "python",
   "name": "python3"
  },
  "language_info": {
   "codemirror_mode": {
    "name": "ipython",
    "version": 3
   },
   "file_extension": ".py",
   "mimetype": "text/x-python",
   "name": "python",
   "nbconvert_exporter": "python",
   "pygments_lexer": "ipython3",
   "version": "3.9.12"
  }
 },
 "nbformat": 4,
 "nbformat_minor": 5
}
