{
 "cells": [
  {
   "cell_type": "code",
   "execution_count": 1,
   "metadata": {},
   "outputs": [],
   "source": [
    "import tensorflow as tf\n",
    "import numpy as np\n",
    "from tensorflow.keras.models import load_model\n",
    "from tensorflow.keras.preprocessing.image import ImageDataGenerator\n",
    "from sklearn.metrics import confusion_matrix, ConfusionMatrixDisplay,  accuracy_score, precision_score, recall_score, f1_score\n",
    "from sklearn.metrics import precision_recall_curve\n",
    "from sklearn.metrics import PrecisionRecallDisplay"
   ]
  },
  {
   "cell_type": "code",
   "execution_count": 2,
   "metadata": {},
   "outputs": [
    {
     "name": "stdout",
     "output_type": "stream",
     "text": [
      "Found 22017 images belonging to 2 classes.\n"
     ]
    }
   ],
   "source": [
    "datagen_test_eval = ImageDataGenerator(rescale=1./255)\n",
    "test_eval_generator = datagen_test_eval.flow_from_directory('./data/test_eval',target_size=(96, 96), class_mode='binary', batch_size=10, shuffle=False)"
   ]
  },
  {
   "cell_type": "code",
   "execution_count": 3,
   "metadata": {},
   "outputs": [],
   "source": [
    "with tf.device('/cpu:0'):\n",
    "    model = load_model('gs_dnn_ensemble_20221023T2328/models/1_v1.hdf5')\n",
    "    X_test_eval = np.concatenate([test_eval_generator .next()[0] for i in range(test_eval_generator .__len__())])\n",
    "    y_test_eval = np.concatenate([test_eval_generator .next()[1] for i in range(test_eval_generator .__len__())])\n",
    "\n",
    "    preds = model.predict(X_test_eval, batch_size=10)"
   ]
  },
  {
   "cell_type": "code",
   "execution_count": 30,
   "metadata": {},
   "outputs": [],
   "source": [
    "preds_labels = (preds > 0.51).astype(int)[:,0]"
   ]
  },
  {
   "cell_type": "code",
   "execution_count": 31,
   "metadata": {},
   "outputs": [],
   "source": [
    "tn, fp, fn, tp = confusion_matrix(y_test_eval, preds_labels).ravel()\n",
    "acc, prec, rec, fscore = accuracy_score(y_test_eval, preds_labels), precision_score(y_test_eval, preds_labels), recall_score(y_test_eval, preds_labels), f1_score(y_test_eval, preds_labels)\n",
    "\n",
    "title = f'Classification results: \\n TP: {tp}, TN: {tn}, FN: {fn}, FP: {fp} \\n ACC: {acc:.5f}, PREC: {prec:.5f}, REC: {rec:.5f}, FSCORE: {fscore:.5f} \\n'"
   ]
  },
  {
   "cell_type": "code",
   "execution_count": 32,
   "metadata": {},
   "outputs": [
    {
     "name": "stdout",
     "output_type": "stream",
     "text": [
      "Classification results: \n",
      " TP: 12436, TN: 7739, FN: 725, FP: 1117 \n",
      " ACC: 0.91634, PREC: 0.91758, REC: 0.94491, FSCORE: 0.93105 \n",
      "\n"
     ]
    }
   ],
   "source": [
    "print(title)"
   ]
  },
  {
   "cell_type": "code",
   "execution_count": 18,
   "metadata": {},
   "outputs": [
    {
     "data": {
      "text/plain": [
       "<sklearn.metrics._plot.precision_recall_curve.PrecisionRecallDisplay at 0x28b18721fd0>"
      ]
     },
     "execution_count": 18,
     "metadata": {},
     "output_type": "execute_result"
    },
    {
     "data": {
      "image/png": "[encoded data removed]",
      "text/plain": [
       "<Figure size 640x480 with 1 Axes>"
      ]
     },
     "metadata": {},
     "output_type": "display_data"
    }
   ],
   "source": [
    "precision, recall, thresholds = precision_recall_curve(y_test_eval, preds_labels)\n",
    "prd = PrecisionRecallDisplay(precision, recall)\n",
    "prd.plot()"
   ]
  },
  {
   "cell_type": "code",
   "execution_count": 19,
   "metadata": {},
   "outputs": [
    {
     "name": "stdout",
     "output_type": "stream",
     "text": [
      "Best threshold:  1\n",
      "Best F1-Score:  0.9311813494732122\n"
     ]
    }
   ],
   "source": [
    "f1_scores = 2*recall*precision/(recall+precision)\n",
    "print('Best threshold: ', thresholds[np.argmax(f1_scores)])\n",
    "print('Best F1-Score: ', np.max(f1_scores))"
   ]
  },
  {
   "cell_type": "markdown",
   "metadata": {},
   "source": [
    "### Lopulliset ennustukset testidatalla"
   ]
  },
  {
   "cell_type": "code",
   "execution_count": 22,
   "metadata": {},
   "outputs": [
    {
     "name": "stdout",
     "output_type": "stream",
     "text": [
      "Found 21717 images belonging to 2 classes.\n"
     ]
    }
   ],
   "source": [
    "datagen_test_eval = ImageDataGenerator(rescale=1./255)\n",
    "test_eval_generator = datagen_test_eval.flow_from_directory('./data/unseen',target_size=(96, 96), class_mode='binary', batch_size=10, shuffle=False)"
   ]
  },
  {
   "cell_type": "code",
   "execution_count": 23,
   "metadata": {},
   "outputs": [],
   "source": [
    "with tf.device('/cpu:0'):\n",
    "    model = load_model('gs_dnn_ensemble_20221023T2328/models/1_v1.hdf5')\n",
    "    X_test_eval = np.concatenate([test_eval_generator .next()[0] for i in range(test_eval_generator .__len__())])\n",
    "    y_test_eval = np.concatenate([test_eval_generator .next()[1] for i in range(test_eval_generator .__len__())])\n",
    "\n",
    "    preds = model.predict(X_test_eval, batch_size=10)"
   ]
  },
  {
   "cell_type": "code",
   "execution_count": 24,
   "metadata": {},
   "outputs": [],
   "source": [
    "preds_labels = (preds > 0.5).astype(int)[:,0]"
   ]
  },
  {
   "cell_type": "code",
   "execution_count": 25,
   "metadata": {},
   "outputs": [],
   "source": [
    "tn, fp, fn, tp = confusion_matrix(y_test_eval, preds_labels).ravel()\n",
    "acc, prec, rec, fscore = accuracy_score(y_test_eval, preds_labels), precision_score(y_test_eval, preds_labels), recall_score(y_test_eval, preds_labels), f1_score(y_test_eval, preds_labels)\n",
    "\n",
    "title = f'Classification results: \\n TP: {tp}, TN: {tn}, FN: {fn}, FP: {fp} \\n ACC: {acc:.5f}, PREC: {prec:.5f}, REC: {rec:.5f}, FSCORE: {fscore:.5f} \\n'"
   ]
  },
  {
   "cell_type": "code",
   "execution_count": 26,
   "metadata": {},
   "outputs": [
    {
     "name": "stdout",
     "output_type": "stream",
     "text": [
      "Classification results: \n",
      " TP: 9365, TN: 8641, FN: 3480, FP: 231 \n",
      " ACC: 0.82912, PREC: 0.97593, REC: 0.72908, FSCORE: 0.83463 \n",
      "\n"
     ]
    }
   ],
   "source": [
    "print(title)"
   ]
  }
 ],
 "metadata": {
  "kernelspec": {
   "display_name": "Python 3 (ipykernel)",
   "language": "python",
   "name": "python3"
  },
  "language_info": {
   "codemirror_mode": {
    "name": "ipython",
    "version": 3
   },
   "file_extension": ".py",
   "mimetype": "text/x-python",
   "name": "python",
   "nbconvert_exporter": "python",
   "pygments_lexer": "ipython3",
   "version": "3.9.12"
  }
 },
 "nbformat": 4,
 "nbformat_minor": 4
}
